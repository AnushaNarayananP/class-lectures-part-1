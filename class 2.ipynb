{
 "cells": [
  {
   "cell_type": "code",
   "execution_count": 6,
   "id": "b4ae4c8c",
   "metadata": {},
   "outputs": [
    {
     "name": "stdout",
     "output_type": "stream",
     "text": [
      "anusha\n",
      "1212\n"
     ]
    }
   ],
   "source": [
    "class Employee:\n",
    "    def __init__(self,ename,eno,erole,edesk):\n",
    "        self.ename=ename\n",
    "        self.eno=eno\n",
    "    def display(self):\n",
    "        print(self.ename)\n",
    "        print(self.eno)\n",
    "class Manager(Employee):\n",
    "    def __init__(self,ename,eno,erole,edesk):\n",
    "        Employee.__init__(self,ename,eno,erole,edesk)\n",
    "        self.erole=erole\n",
    "    def display(self):\n",
    "        Employee.display(self)\n",
    "        print(self.erole)\n",
    "class Supervisor(Employee):\n",
    "    def __init__(self,ename,eno,erole,edesk):\n",
    "        Employee.__init__(self,ename,eno,erole,edesk)\n",
    "        self.edesk=edesk\n",
    "    def display(self):\n",
    "        Employee.display(self)\n",
    "        print(self.edesk)\n",
    "class Experience(Manager):\n",
    "    def __init__(self,ename,eno,erole,edesk,experience):\n",
    "        Manager.__init__(self,ename,eno,erole,edesk)\n",
    "        self.experience=experience\n",
    "    def display(self):\n",
    "        Manager.display(self)\n",
    "        print(self.experience)\n",
    "m=Experience(\"anusha\",1212,\"manager\",3)\n",
    "m.display()"
   ]
  },
  {
   "cell_type": "code",
   "execution_count": 10,
   "id": "4b5874c6",
   "metadata": {},
   "outputs": [],
   "source": [
    "m=Experience(\"anusha\",1212,\"manager\",3,4)"
   ]
  },
  {
   "cell_type": "code",
   "execution_count": 11,
   "id": "1497a1fe",
   "metadata": {},
   "outputs": [
    {
     "name": "stdout",
     "output_type": "stream",
     "text": [
      "anusha\n",
      "1212\n",
      "manager\n",
      "3\n",
      "4\n"
     ]
    }
   ],
   "source": [
    "m.display()"
   ]
  },
  {
   "cell_type": "code",
   "execution_count": null,
   "id": "4fad175f",
   "metadata": {},
   "outputs": [],
   "source": []
  }
 ],
 "metadata": {
  "kernelspec": {
   "display_name": "Python 3 (ipykernel)",
   "language": "python",
   "name": "python3"
  },
  "language_info": {
   "codemirror_mode": {
    "name": "ipython",
    "version": 3
   },
   "file_extension": ".py",
   "mimetype": "text/x-python",
   "name": "python",
   "nbconvert_exporter": "python",
   "pygments_lexer": "ipython3",
   "version": "3.9.12"
  }
 },
 "nbformat": 4,
 "nbformat_minor": 5
}
