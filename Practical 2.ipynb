{
 "cells": [
  {
   "cell_type": "markdown",
   "id": "30ae4a10",
   "metadata": {},
   "source": [
    "Write a program to check the no. is even"
   ]
  },
  {
   "cell_type": "code",
   "execution_count": 1,
   "id": "351e80e6",
   "metadata": {},
   "outputs": [
    {
     "name": "stdout",
     "output_type": "stream",
     "text": [
      "Enter a number5\n",
      "5  is odd number\n"
     ]
    }
   ],
   "source": [
    "i=eval(input('Enter a number'))\n",
    "if i%2==0:\n",
    "    print(i,' is even number')\n",
    "else:\n",
    "    print(i, ' is odd number')"
   ]
  },
  {
   "cell_type": "markdown",
   "id": "177bf620",
   "metadata": {},
   "source": [
    "Write a program to check the given number is positive"
   ]
  },
  {
   "cell_type": "code",
   "execution_count": 2,
   "id": "2740e50a",
   "metadata": {},
   "outputs": [
    {
     "name": "stdout",
     "output_type": "stream",
     "text": [
      "Enter a number35\n",
      "35  is positive number\n"
     ]
    }
   ],
   "source": [
    "i=eval(input('Enter a number'))\n",
    "if i>0:\n",
    "    print(i,' is positive number')\n",
    "else:\n",
    "    print(i, ' is not a positive number')"
   ]
  },
  {
   "cell_type": "markdown",
   "id": "bb787eb0",
   "metadata": {},
   "source": [
    "Write a program a person is eligible to vote"
   ]
  },
  {
   "cell_type": "code",
   "execution_count": 3,
   "id": "9a434914",
   "metadata": {},
   "outputs": [
    {
     "name": "stdout",
     "output_type": "stream",
     "text": [
      "Enter age of the person65\n",
      "the person is eligible to vote\n"
     ]
    }
   ],
   "source": [
    "i=eval(input('Enter age of the person'))\n",
    "if i>=18:\n",
    "    print('the person is eligible to vote')\n",
    "else:\n",
    "    print('the person is not eligible to vote')"
   ]
  },
  {
   "cell_type": "markdown",
   "id": "b5e49c5a",
   "metadata": {},
   "source": [
    "Write a program to find out the biggest of the 3 no.s"
   ]
  },
  {
   "cell_type": "code",
   "execution_count": 4,
   "id": "0bec4728",
   "metadata": {},
   "outputs": [
    {
     "name": "stdout",
     "output_type": "stream",
     "text": [
      "Enter the first number35\n",
      "Enter the second number25\n",
      "Enter the third number45\n",
      " third no. is greater\n"
     ]
    }
   ],
   "source": [
    "a=eval(input('Enter the first number'))\n",
    "b=eval(input('Enter the second number'))\n",
    "c=eval(input('Enter the third number'))\n",
    "if a>b and a>c:\n",
    "    print('first no. is greater')\n",
    "elif b>c:\n",
    "    print('second number is greater')\n",
    "else:\n",
    "    print(' third no. is greater')"
   ]
  },
  {
   "cell_type": "code",
   "execution_count": 7,
   "id": "891c3dcd",
   "metadata": {},
   "outputs": [
    {
     "name": "stdout",
     "output_type": "stream",
     "text": [
      "8\n",
      "Anusha Narayanan\n"
     ]
    }
   ],
   "source": [
    "for details in 8,'Anusha Narayanan' :\n",
    "    print(details)\n",
    "    "
   ]
  },
  {
   "cell_type": "code",
   "execution_count": 8,
   "id": "100cd17e",
   "metadata": {},
   "outputs": [
    {
     "name": "stdout",
     "output_type": "stream",
     "text": [
      "Enter the first number25\n",
      "Enter the second number90\n",
      "115\n"
     ]
    }
   ],
   "source": [
    "def add(a,b):\n",
    "    print(a+b)\n",
    "a=eval(input('Enter the first number'))\n",
    "b=eval(input('Enter the second number'))\n",
    "add(a,b)"
   ]
  },
  {
   "cell_type": "code",
   "execution_count": 9,
   "id": "3490dc29",
   "metadata": {},
   "outputs": [
    {
     "name": "stdout",
     "output_type": "stream",
     "text": [
      "Enter the first number10\n",
      "Enter the second number10\n",
      "20\n"
     ]
    }
   ],
   "source": [
    "def add(a,b):\n",
    "    return a+b\n",
    "a=eval(input('Enter the first number'))\n",
    "b=eval(input('Enter the second number'))\n",
    "d=add(a,b)\n",
    "print(d)"
   ]
  },
  {
   "cell_type": "markdown",
   "id": "23d1d670",
   "metadata": {},
   "source": [
    "Write a program to find the area of a circle"
   ]
  },
  {
   "cell_type": "code",
   "execution_count": 11,
   "id": "693bcbeb",
   "metadata": {},
   "outputs": [
    {
     "name": "stdout",
     "output_type": "stream",
     "text": [
      "Enter the radius :25\n",
      "1962.5 square units\n"
     ]
    }
   ],
   "source": [
    "def circle(r):\n",
    "    return 3.14*r*r\n",
    "r=eval(input('Enter the radius :'))\n",
    "Area =circle(r)\n",
    "print(Area,'square units')"
   ]
  },
  {
   "cell_type": "code",
   "execution_count": 13,
   "id": "7cf4cd00",
   "metadata": {},
   "outputs": [
    {
     "name": "stdout",
     "output_type": "stream",
     "text": [
      "Costliest item is  50\n"
     ]
    }
   ],
   "source": [
    "itemprice=[20,30,10,50,15,16,35]\n",
    "def costliest_item(list):\n",
    "    print('Costliest item is ',max(list))\n",
    "costliest_item(itemprice)"
   ]
  },
  {
   "cell_type": "code",
   "execution_count": null,
   "id": "033e3614",
   "metadata": {},
   "outputs": [],
   "source": []
  }
 ],
 "metadata": {
  "kernelspec": {
   "display_name": "Python 3 (ipykernel)",
   "language": "python",
   "name": "python3"
  },
  "language_info": {
   "codemirror_mode": {
    "name": "ipython",
    "version": 3
   },
   "file_extension": ".py",
   "mimetype": "text/x-python",
   "name": "python",
   "nbconvert_exporter": "python",
   "pygments_lexer": "ipython3",
   "version": "3.9.12"
  }
 },
 "nbformat": 4,
 "nbformat_minor": 5
}
