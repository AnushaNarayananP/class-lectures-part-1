{
 "cells": [
  {
   "cell_type": "code",
   "execution_count": 1,
   "id": "d6e63629",
   "metadata": {},
   "outputs": [],
   "source": [
    "def intersect_array(n1,n2,n3,arr1,arr2,arr3):\n",
    "    x_loc=0\n",
    "    y_loc=0\n",
    "    z_loc=0\n",
    "    res=[]\n",
    "    while x_loc!=n1 and y_loc !=n2 and z_loc!=n3:\n",
    "        x= arr1[x_loc]\n",
    "        y= arr2[y_loc]\n",
    "        z= arr3[z_loc]\n",
    "        if x==y and y==z:\n",
    "            res.append(x)\n",
    "            x_loc+=1\n",
    "            y_loc+=1\n",
    "            z_loc+=1\n",
    "        elif x<=y and x<=z:\n",
    "            x_loc+=1\n",
    "        elif y<=x and y<=z:\n",
    "            y_loc+=1\n",
    "        else:\n",
    "            z_loc+=1\n",
    "    return res"
   ]
  },
  {
   "cell_type": "code",
   "execution_count": 2,
   "id": "065ad746",
   "metadata": {},
   "outputs": [
    {
     "data": {
      "text/plain": [
       "[1, 5]"
      ]
     },
     "execution_count": 2,
     "metadata": {},
     "output_type": "execute_result"
    }
   ],
   "source": [
    "arr1=[1,2,3,4,5]\n",
    "arr2=[1,2,5,7,9]\n",
    "arr3=[1,3,4,5,8]\n",
    "n1=len(arr1)\n",
    "n2=len(arr2)\n",
    "n3=len(arr3)\n",
    "intersect_array(n1,n2,n3,arr1,arr2,arr3)"
   ]
  },
  {
   "cell_type": "code",
   "execution_count": null,
   "id": "a885783f",
   "metadata": {},
   "outputs": [],
   "source": []
  }
 ],
 "metadata": {
  "kernelspec": {
   "display_name": "Python 3 (ipykernel)",
   "language": "python",
   "name": "python3"
  },
  "language_info": {
   "codemirror_mode": {
    "name": "ipython",
    "version": 3
   },
   "file_extension": ".py",
   "mimetype": "text/x-python",
   "name": "python",
   "nbconvert_exporter": "python",
   "pygments_lexer": "ipython3",
   "version": "3.9.12"
  }
 },
 "nbformat": 4,
 "nbformat_minor": 5
}
