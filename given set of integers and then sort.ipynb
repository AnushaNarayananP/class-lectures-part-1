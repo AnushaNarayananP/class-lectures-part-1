{
 "cells": [
  {
   "cell_type": "markdown",
   "id": "234f6f85",
   "metadata": {},
   "source": [
    "is number is greater or smaller or equal to zero?"
   ]
  },
  {
   "cell_type": "markdown",
   "id": "a3d47a11",
   "metadata": {},
   "source": [
    "in function and class"
   ]
  },
  {
   "cell_type": "code",
   "execution_count": 6,
   "id": "aaf422e3",
   "metadata": {},
   "outputs": [
    {
     "name": "stdout",
     "output_type": "stream",
     "text": [
      "n is positive\n"
     ]
    }
   ],
   "source": [
    "def greater(n):\n",
    "    if n>0:\n",
    "        \n",
    "        print(\"n is positive\")\n",
    "    elif n==0:\n",
    "        print(\"n is zero\")\n",
    "    else:\n",
    "        print(\"n is negative\")\n",
    "greater(3)        "
   ]
  },
  {
   "cell_type": "code",
   "execution_count": 67,
   "id": "07650355",
   "metadata": {},
   "outputs": [
    {
     "name": "stdout",
     "output_type": "stream",
     "text": [
      "n is positive\n"
     ]
    }
   ],
   "source": [
    "class whatisn:\n",
    "    def __init__(self,n):\n",
    "        self.n=n\n",
    "    def display(self):\n",
    "        if self.n>0:\n",
    "            print(\"n is positive\")\n",
    "        elif self.n==0:\n",
    "            print(\"n is zero\")\n",
    "        else:\n",
    "            print(\"n is negative\")\n",
    "m= whatisn(5)\n",
    "m.display()"
   ]
  },
  {
   "cell_type": "markdown",
   "id": "af37591d",
   "metadata": {},
   "source": [
    "suppose if we give a set of integers and then tell to sort it in increasing order"
   ]
  },
  {
   "cell_type": "markdown",
   "id": "af5f1a8e",
   "metadata": {},
   "source": [
    "in function"
   ]
  },
  {
   "cell_type": "code",
   "execution_count": 64,
   "id": "93551e56",
   "metadata": {},
   "outputs": [],
   "source": [
    "def index(*a):\n",
    "    l=[]\n",
    "    for i in a:\n",
    "        if type(i) == int:\n",
    "            l.append(i)\n",
    "        else :\n",
    "            continue\n",
    "    for j in l[::-1]:\n",
    "        pass\n",
    "        \n",
    "    l.sort() \n",
    "    for k in l:\n",
    "        print(k,end=\" \")    "
   ]
  },
  {
   "cell_type": "code",
   "execution_count": 65,
   "id": "bb642ddd",
   "metadata": {},
   "outputs": [
    {
     "name": "stdout",
     "output_type": "stream",
     "text": [
      "2 200 300 500 "
     ]
    }
   ],
   "source": [
    "index(300,200,500,2)"
   ]
  },
  {
   "cell_type": "markdown",
   "id": "035df2dc",
   "metadata": {},
   "source": [
    "in class"
   ]
  },
  {
   "cell_type": "code",
   "execution_count": 116,
   "id": "8f0c8f09",
   "metadata": {},
   "outputs": [],
   "source": [
    "class sorting:\n",
    "    def __init__(self,*a):\n",
    "        s=self.a=a   \n",
    "        d=sorted(s)\n",
    "        for j in d:\n",
    "            print(j,end=\" \")"
   ]
  },
  {
   "cell_type": "code",
   "execution_count": 117,
   "id": "66e0b033",
   "metadata": {},
   "outputs": [
    {
     "name": "stdout",
     "output_type": "stream",
     "text": [
      "2 4 200 300 400 "
     ]
    }
   ],
   "source": [
    "m=sorting(2,400,300,4,200)"
   ]
  },
  {
   "cell_type": "code",
   "execution_count": null,
   "id": "70e64e2d",
   "metadata": {},
   "outputs": [],
   "source": []
  },
  {
   "cell_type": "code",
   "execution_count": null,
   "id": "d5ba35d7",
   "metadata": {},
   "outputs": [],
   "source": []
  }
 ],
 "metadata": {
  "kernelspec": {
   "display_name": "Python 3 (ipykernel)",
   "language": "python",
   "name": "python3"
  },
  "language_info": {
   "codemirror_mode": {
    "name": "ipython",
    "version": 3
   },
   "file_extension": ".py",
   "mimetype": "text/x-python",
   "name": "python",
   "nbconvert_exporter": "python",
   "pygments_lexer": "ipython3",
   "version": "3.9.12"
  }
 },
 "nbformat": 4,
 "nbformat_minor": 5
}
