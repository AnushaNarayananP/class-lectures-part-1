{
 "cells": [
  {
   "cell_type": "code",
   "execution_count": 11,
   "id": "d3bba11c",
   "metadata": {},
   "outputs": [
    {
     "name": "stdout",
     "output_type": "stream",
     "text": [
      "5\n",
      "2 3 5 1 2 \n",
      "3\n",
      "1 1 1 0 1\n"
     ]
    }
   ],
   "source": [
    "def all_extra_candies(n,candies,extra_candies):\n",
    "    res=[]\n",
    "    maximum=0\n",
    "    for i in range(n):\n",
    "        \n",
    "        if maximum < candies[i]:\n",
    "            maximum = candies[i]\n",
    "    for i in range(n):\n",
    "        if extra_candies + candies[i] >= maximum:\n",
    "            res.append(1)\n",
    "        else :\n",
    "            res.append(0)\n",
    "    return res\n",
    "n=int(input())\n",
    "candies=list(map(int,input().split()))\n",
    "\n",
    "extra_candies = int(input())\n",
    "out_=all_extra_candies(n,candies,extra_candies)\n",
    "print(' '.join(map(str,out_)))"
   ]
  },
  {
   "cell_type": "code",
   "execution_count": null,
   "id": "88c3e515",
   "metadata": {},
   "outputs": [],
   "source": []
  }
 ],
 "metadata": {
  "kernelspec": {
   "display_name": "Python 3 (ipykernel)",
   "language": "python",
   "name": "python3"
  },
  "language_info": {
   "codemirror_mode": {
    "name": "ipython",
    "version": 3
   },
   "file_extension": ".py",
   "mimetype": "text/x-python",
   "name": "python",
   "nbconvert_exporter": "python",
   "pygments_lexer": "ipython3",
   "version": "3.9.12"
  }
 },
 "nbformat": 4,
 "nbformat_minor": 5
}
