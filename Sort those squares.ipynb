{
 "cells": [
  {
   "cell_type": "code",
   "execution_count": 1,
   "id": "073c85e3",
   "metadata": {},
   "outputs": [],
   "source": [
    "def sort_those_squares(n,arr):\n",
    "    res=[]\n",
    "    pos=[]\n",
    "    neg=[]\n",
    "    i=0\n",
    "    while arr[i]<0:\n",
    "        neg.append(arr[i])\n",
    "        i+=1\n",
    "    while i < n:\n",
    "        pos.append(arr[i])\n",
    "        i+=1\n",
    "    pos_index=0\n",
    "    neg_index = len(neg)-1\n",
    "    while pos_index < len(pos) and  neg_index >=0:\n",
    "        if pow(pos[pos_index],2)<pow(neg[neg_index],2):\n",
    "            res.append(pow(pos[pos_index],2))\n",
    "            pos_index+=1\n",
    "        else:\n",
    "            res.append(pow(neg[neg_index],2))\n",
    "            neg_index-=1\n",
    "    while pos_index < len(pos):\n",
    "        res.append(pow(pos[pos_index],2))\n",
    "        pos_index+=1\n",
    "    while neg_index >=0:\n",
    "        res.append(pow(neg[neg_index],2))\n",
    "        neg_index -=1\n",
    "    return res"
   ]
  },
  {
   "cell_type": "code",
   "execution_count": 2,
   "id": "d8f7c52f",
   "metadata": {},
   "outputs": [
    {
     "name": "stdout",
     "output_type": "stream",
     "text": [
      "5\n",
      "-4 -1 0 3 10\n"
     ]
    },
    {
     "data": {
      "text/plain": [
       "[0, 1, 9, 16, 100]"
      ]
     },
     "execution_count": 2,
     "metadata": {},
     "output_type": "execute_result"
    }
   ],
   "source": [
    "n=int(input())\n",
    "arr=list(map(int,input().split()))\n",
    "sort_those_squares(n,arr)"
   ]
  },
  {
   "cell_type": "code",
   "execution_count": null,
   "id": "a9dbcde7",
   "metadata": {},
   "outputs": [],
   "source": []
  }
 ],
 "metadata": {
  "kernelspec": {
   "display_name": "Python 3 (ipykernel)",
   "language": "python",
   "name": "python3"
  },
  "language_info": {
   "codemirror_mode": {
    "name": "ipython",
    "version": 3
   },
   "file_extension": ".py",
   "mimetype": "text/x-python",
   "name": "python",
   "nbconvert_exporter": "python",
   "pygments_lexer": "ipython3",
   "version": "3.9.12"
  }
 },
 "nbformat": 4,
 "nbformat_minor": 5
}
