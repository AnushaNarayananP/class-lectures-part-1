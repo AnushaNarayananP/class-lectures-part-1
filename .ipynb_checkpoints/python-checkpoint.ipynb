{
 "cells": [
  {
   "cell_type": "code",
   "execution_count": 5,
   "id": "ea961d89",
   "metadata": {},
   "outputs": [],
   "source": [
    "a=12"
   ]
  },
  {
   "cell_type": "code",
   "execution_count": null,
   "id": "8d88e3e2",
   "metadata": {},
   "outputs": [],
   "source": [
    "print('')"
   ]
  },
  {
   "cell_type": "code",
   "execution_count": 2,
   "id": "324f1dfd",
   "metadata": {},
   "outputs": [
    {
     "data": {
      "text/plain": [
       "12"
      ]
     },
     "execution_count": 2,
     "metadata": {},
     "output_type": "execute_result"
    }
   ],
   "source": [
    "int(a)"
   ]
  },
  {
   "cell_type": "code",
   "execution_count": 8,
   "id": "bf18b791",
   "metadata": {},
   "outputs": [
    {
     "data": {
      "text/plain": [
       "3"
      ]
     },
     "execution_count": 8,
     "metadata": {},
     "output_type": "execute_result"
    }
   ],
   "source": [
    "12>>2"
   ]
  },
  {
   "cell_type": "code",
   "execution_count": 9,
   "id": "df943172",
   "metadata": {},
   "outputs": [],
   "source": [
    "s=12"
   ]
  },
  {
   "cell_type": "code",
   "execution_count": 12,
   "id": "8e1e6f2c",
   "metadata": {},
   "outputs": [
    {
     "data": {
      "text/plain": [
       "True"
      ]
     },
     "execution_count": 12,
     "metadata": {},
     "output_type": "execute_result"
    }
   ],
   "source": [
    "\"1\" in str(s)"
   ]
  },
  {
   "cell_type": "code",
   "execution_count": 16,
   "id": "a3517a97",
   "metadata": {},
   "outputs": [
    {
     "data": {
      "text/plain": [
       "True"
      ]
     },
     "execution_count": 16,
     "metadata": {},
     "output_type": "execute_result"
    }
   ],
   "source": [
    "'1' ==\"1\""
   ]
  },
  {
   "cell_type": "code",
   "execution_count": 17,
   "id": "5ce39ea5",
   "metadata": {},
   "outputs": [
    {
     "data": {
      "text/plain": [
       "True"
      ]
     },
     "execution_count": 17,
     "metadata": {},
     "output_type": "execute_result"
    }
   ],
   "source": [
    "s1=\"python\"\n",
    "s2=\"python\"\n",
    "s1 is s2"
   ]
  },
  {
   "cell_type": "code",
   "execution_count": 19,
   "id": "d1835fbe",
   "metadata": {},
   "outputs": [],
   "source": [
    "s='pyn'"
   ]
  },
  {
   "cell_type": "code",
   "execution_count": 21,
   "id": "c7ccea6d",
   "metadata": {},
   "outputs": [],
   "source": [
    "s*=3"
   ]
  },
  {
   "cell_type": "code",
   "execution_count": 22,
   "id": "2e900826",
   "metadata": {},
   "outputs": [
    {
     "data": {
      "text/plain": [
       "'pynpynpyn'"
      ]
     },
     "execution_count": 22,
     "metadata": {},
     "output_type": "execute_result"
    }
   ],
   "source": [
    "s"
   ]
  },
  {
   "cell_type": "code",
   "execution_count": 24,
   "id": "5ce502b2",
   "metadata": {},
   "outputs": [
    {
     "data": {
      "text/plain": [
       "True"
      ]
     },
     "execution_count": 24,
     "metadata": {},
     "output_type": "execute_result"
    }
   ],
   "source": [
    "'npy'in s"
   ]
  },
  {
   "cell_type": "code",
   "execution_count": 25,
   "id": "295231c0",
   "metadata": {},
   "outputs": [],
   "source": [
    "s=\"bbcde\""
   ]
  },
  {
   "cell_type": "code",
   "execution_count": 27,
   "id": "67a3524b",
   "metadata": {},
   "outputs": [
    {
     "data": {
      "text/plain": [
       "'Bbcde'"
      ]
     },
     "execution_count": 27,
     "metadata": {},
     "output_type": "execute_result"
    }
   ],
   "source": [
    "s.title()"
   ]
  },
  {
   "cell_type": "code",
   "execution_count": 48,
   "id": "179b22c9",
   "metadata": {},
   "outputs": [],
   "source": [
    "s=[\"python\",\"p\",\"q\"]"
   ]
  },
  {
   "cell_type": "code",
   "execution_count": 36,
   "id": "f8166385",
   "metadata": {},
   "outputs": [
    {
     "data": {
      "text/plain": [
       "'ppythonp'"
      ]
     },
     "execution_count": 36,
     "metadata": {},
     "output_type": "execute_result"
    }
   ],
   "source": [
    "s.center(8,'p')"
   ]
  },
  {
   "cell_type": "markdown",
   "id": "ab7cb9f3",
   "metadata": {},
   "source": []
  },
  {
   "cell_type": "code",
   "execution_count": 52,
   "id": "8ae4393a",
   "metadata": {},
   "outputs": [],
   "source": [
    "s1=' '.join(reversed(s))"
   ]
  },
  {
   "cell_type": "code",
   "execution_count": 53,
   "id": "fa5474f8",
   "metadata": {},
   "outputs": [
    {
     "data": {
      "text/plain": [
       "'q p python'"
      ]
     },
     "execution_count": 53,
     "metadata": {},
     "output_type": "execute_result"
    }
   ],
   "source": [
    "s1"
   ]
  },
  {
   "cell_type": "code",
   "execution_count": null,
   "id": "70084919",
   "metadata": {},
   "outputs": [],
   "source": [
    "s='python'"
   ]
  }
 ],
 "metadata": {
  "kernelspec": {
   "display_name": "Python 3 (ipykernel)",
   "language": "python",
   "name": "python3"
  },
  "language_info": {
   "codemirror_mode": {
    "name": "ipython",
    "version": 3
   },
   "file_extension": ".py",
   "mimetype": "text/x-python",
   "name": "python",
   "nbconvert_exporter": "python",
   "pygments_lexer": "ipython3",
   "version": "3.9.12"
  }
 },
 "nbformat": 4,
 "nbformat_minor": 5
}
