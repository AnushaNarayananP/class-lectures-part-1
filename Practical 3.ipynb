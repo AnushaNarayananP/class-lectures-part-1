{
 "cells": [
  {
   "cell_type": "code",
   "execution_count": 1,
   "id": "1138eb85",
   "metadata": {},
   "outputs": [],
   "source": [
    "booklist=[]  "
   ]
  },
  {
   "cell_type": "code",
   "execution_count": 10,
   "id": "73a7f97d",
   "metadata": {},
   "outputs": [],
   "source": [
    "\n",
    "def addbook(Title,Author,Publisher,Year ,ISBN):\n",
    "    a=[Title,Author,Publisher,Year ,ISBN]\n",
    "    booklist.append(a)\n",
    "    return booklist\n",
    "\n",
    "def sortbooks(booklist):\n",
    "    booklist=sorted(booklist,key=lambda l:l[0])\n",
    "    return booklist\n",
    "def searchbook(a):\n",
    "    i=0\n",
    "    while i<len(booklist):\n",
    "        if a in booklist[i][0]:\n",
    "            return True\n",
    "        else:\n",
    "            pass\n",
    "        i=i+1\n",
    "    return False\n",
    "def removebook(a):\n",
    "    i=0\n",
    "    while i<len(booklist):\n",
    "        if a in booklist[i][0]:\n",
    "            del booklist[i]\n",
    "        else:\n",
    "            pass\n",
    "        i=i+1\n",
    "    return booklist"
   ]
  },
  {
   "cell_type": "code",
   "execution_count": 3,
   "id": "fbca3eb5",
   "metadata": {},
   "outputs": [
    {
     "name": "stdout",
     "output_type": "stream",
     "text": [
      "Enter Title:Python Crash Course\n",
      "Enter Author:Eric Matthes\n",
      "Enter PublisherNo Starch Press,US\n",
      "Enter year:2023\n",
      "ISBN no.1718502702\n",
      "Enter Title:Head-First Python\n",
      "Enter Author:Paul Barry\n",
      "Enter PublisherO'Reilly Media\n",
      "Enter year:2010\n",
      "ISBN no.1449382673\n",
      "Enter Title:Invent Your Own Computer Games with Python\n",
      "Enter Author:Al Sweigtar\n",
      "Enter PublisherNo Starch Press,US\n",
      "Enter year:2016\n",
      "ISBN no.1593277954\n"
     ]
    }
   ],
   "source": [
    "booklist=addbook(input('Enter Title:'),input('Enter Author:'),input('Enter Publisher'),input('Enter year:'),input('ISBN no.'))\n",
    "booklist=addbook(input('Enter Title:'),input('Enter Author:'),input('Enter Publisher'),input('Enter year:'),input('ISBN no.'))\n",
    "booklist=addbook(input('Enter Title:'),input('Enter Author:'),input('Enter Publisher'),input('Enter year:'),input('ISBN no.'))"
   ]
  },
  {
   "cell_type": "code",
   "execution_count": 4,
   "id": "69d6dd7f",
   "metadata": {},
   "outputs": [
    {
     "name": "stdout",
     "output_type": "stream",
     "text": [
      "[['Python Crash Course', 'Eric Matthes', 'No Starch Press,US', '2023', '1718502702'], ['Head-First Python', 'Paul Barry', \"O'Reilly Media\", '2010', '1449382673'], ['Invent Your Own Computer Games with Python', 'Al Sweigtar', 'No Starch Press,US', '2016', '1593277954']]\n"
     ]
    }
   ],
   "source": [
    "print(booklist)"
   ]
  },
  {
   "cell_type": "code",
   "execution_count": 5,
   "id": "00926c52",
   "metadata": {},
   "outputs": [
    {
     "name": "stdout",
     "output_type": "stream",
     "text": [
      "[['Head-First Python', 'Paul Barry', \"O'Reilly Media\", '2010', '1449382673'], ['Invent Your Own Computer Games with Python', 'Al Sweigtar', 'No Starch Press,US', '2016', '1593277954'], ['Python Crash Course', 'Eric Matthes', 'No Starch Press,US', '2023', '1718502702']]\n"
     ]
    }
   ],
   "source": [
    "print(sortbooks(booklist))"
   ]
  },
  {
   "cell_type": "code",
   "execution_count": 6,
   "id": "9c6da3f5",
   "metadata": {},
   "outputs": [
    {
     "name": "stdout",
     "output_type": "stream",
     "text": [
      "Enter a book name:Python for Data Science\n"
     ]
    },
    {
     "data": {
      "text/plain": [
       "False"
      ]
     },
     "execution_count": 6,
     "metadata": {},
     "output_type": "execute_result"
    }
   ],
   "source": [
    "searchbook(input('Enter a book name:'))"
   ]
  },
  {
   "cell_type": "code",
   "execution_count": 7,
   "id": "8d33e85e",
   "metadata": {},
   "outputs": [
    {
     "name": "stdout",
     "output_type": "stream",
     "text": [
      "Enter a book name:Head-First Python\n"
     ]
    },
    {
     "data": {
      "text/plain": [
       "True"
      ]
     },
     "execution_count": 7,
     "metadata": {},
     "output_type": "execute_result"
    }
   ],
   "source": [
    "searchbook(input('Enter a book name:'))"
   ]
  },
  {
   "cell_type": "code",
   "execution_count": 11,
   "id": "7f81d0d2",
   "metadata": {},
   "outputs": [
    {
     "name": "stdout",
     "output_type": "stream",
     "text": [
      "Enter a book name:Head-First Python\n"
     ]
    },
    {
     "data": {
      "text/plain": [
       "[['Python Crash Course',\n",
       "  'Eric Matthes',\n",
       "  'No Starch Press,US',\n",
       "  '2023',\n",
       "  '1718502702'],\n",
       " ['Invent Your Own Computer Games with Python',\n",
       "  'Al Sweigtar',\n",
       "  'No Starch Press,US',\n",
       "  '2016',\n",
       "  '1593277954']]"
      ]
     },
     "execution_count": 11,
     "metadata": {},
     "output_type": "execute_result"
    }
   ],
   "source": [
    "removebook(input('Enter a book name:'))"
   ]
  },
  {
   "cell_type": "code",
   "execution_count": 12,
   "id": "103d9e81",
   "metadata": {},
   "outputs": [
    {
     "name": "stdout",
     "output_type": "stream",
     "text": [
      "[['Python Crash Course', 'Eric Matthes', 'No Starch Press,US', '2023', '1718502702'], ['Invent Your Own Computer Games with Python', 'Al Sweigtar', 'No Starch Press,US', '2016', '1593277954']]\n"
     ]
    }
   ],
   "source": [
    "print(booklist)"
   ]
  },
  {
   "cell_type": "code",
   "execution_count": null,
   "id": "6ff83b9a",
   "metadata": {},
   "outputs": [],
   "source": []
  }
 ],
 "metadata": {
  "kernelspec": {
   "display_name": "Python 3 (ipykernel)",
   "language": "python",
   "name": "python3"
  },
  "language_info": {
   "codemirror_mode": {
    "name": "ipython",
    "version": 3
   },
   "file_extension": ".py",
   "mimetype": "text/x-python",
   "name": "python",
   "nbconvert_exporter": "python",
   "pygments_lexer": "ipython3",
   "version": "3.9.12"
  }
 },
 "nbformat": 4,
 "nbformat_minor": 5
}
