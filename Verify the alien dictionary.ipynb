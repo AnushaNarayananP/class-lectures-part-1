{
 "cells": [
  {
   "cell_type": "code",
   "execution_count": 1,
   "id": "ddca9c98",
   "metadata": {},
   "outputs": [],
   "source": [
    "def char_to_index(c):\n",
    "    return (ord)(c) -65\n",
    "def is_lexxicographic(key,n,str):\n",
    "    decoder =[0]*26\n",
    "    for i in range(len(key)):\n",
    "        decoder[char_to_index(key[i])]=i\n",
    "    for i in range(n-1):\n",
    "        j=0\n",
    "        while j!=len(str[i]) and j!=len(str[i+1]) and str[i][j] == str[i+1][j]:\n",
    "            j+=1\n",
    "        if j==len(str[i]):\n",
    "            continue\n",
    "        if j==len(str[i+1]):\n",
    "            return 0\n",
    "        if decoder[char_to_index(str[i][j])] > decoder[char_to_index(str[i+1][j])]:\n",
    "            return 0\n",
    "    return 1\n",
    "        "
   ]
  },
  {
   "cell_type": "code",
   "execution_count": 2,
   "id": "107d814f",
   "metadata": {},
   "outputs": [
    {
     "name": "stdout",
     "output_type": "stream",
     "text": [
      "HECABDFGIJKLMNOPQRSTUVWXYZ\n",
      "3\n",
      "HACKER\n",
      "EARTHS\n",
      "CODEXPLAINED\n"
     ]
    }
   ],
   "source": [
    "key= input()\n",
    "n=int(input())\n",
    "str=[]\n",
    "for _ in range(n):\n",
    "    str.append(input())\n",
    "out_ = is_lexxicographic(key,n,str)"
   ]
  },
  {
   "cell_type": "code",
   "execution_count": 4,
   "id": "434c2fa3",
   "metadata": {},
   "outputs": [
    {
     "name": "stdout",
     "output_type": "stream",
     "text": [
      "1\n"
     ]
    }
   ],
   "source": [
    "print(out_)"
   ]
  },
  {
   "cell_type": "code",
   "execution_count": null,
   "id": "43dd7127",
   "metadata": {},
   "outputs": [],
   "source": []
  }
 ],
 "metadata": {
  "kernelspec": {
   "display_name": "Python 3 (ipykernel)",
   "language": "python",
   "name": "python3"
  },
  "language_info": {
   "codemirror_mode": {
    "name": "ipython",
    "version": 3
   },
   "file_extension": ".py",
   "mimetype": "text/x-python",
   "name": "python",
   "nbconvert_exporter": "python",
   "pygments_lexer": "ipython3",
   "version": "3.9.12"
  }
 },
 "nbformat": 4,
 "nbformat_minor": 5
}
