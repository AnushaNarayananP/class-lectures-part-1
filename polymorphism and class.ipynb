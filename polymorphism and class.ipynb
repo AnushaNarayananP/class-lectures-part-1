{
 "cells": [
  {
   "cell_type": "code",
   "execution_count": 35,
   "id": "41451880",
   "metadata": {},
   "outputs": [],
   "source": [
    "class rectangle:\n",
    "    def __init__(self,height,width,length):\n",
    "        self.height=height\n",
    "        self.width=width\n",
    "        self.length=length\n",
    "    def display(self):\n",
    "        print(self.height)\n",
    "        print(self.width)\n",
    "    def area(self):\n",
    "        print(self.height*self.width)\n",
    "    def volume(self):\n",
    "        print(self.height*self.width*self.length)"
   ]
  },
  {
   "cell_type": "code",
   "execution_count": 36,
   "id": "24cca0ab",
   "metadata": {
    "scrolled": true
   },
   "outputs": [],
   "source": [
    "r = rectangle(50,20,30)"
   ]
  },
  {
   "cell_type": "code",
   "execution_count": 24,
   "id": "a2bbfbda",
   "metadata": {},
   "outputs": [],
   "source": [
    "r._init_(50,20)"
   ]
  },
  {
   "cell_type": "code",
   "execution_count": 37,
   "id": "0035a2ae",
   "metadata": {},
   "outputs": [
    {
     "name": "stdout",
     "output_type": "stream",
     "text": [
      "1000\n"
     ]
    }
   ],
   "source": [
    "r.area()"
   ]
  },
  {
   "cell_type": "code",
   "execution_count": 38,
   "id": "1984ab11",
   "metadata": {},
   "outputs": [
    {
     "name": "stdout",
     "output_type": "stream",
     "text": [
      "30000\n"
     ]
    }
   ],
   "source": [
    "r.volume()"
   ]
  },
  {
   "cell_type": "code",
   "execution_count": 2,
   "id": "e73999e0",
   "metadata": {},
   "outputs": [],
   "source": [
    "class dog:\n",
    "    def __init__(self,name):\n",
    "        self.name=name\n",
    "    def eat(self):\n",
    "        print(self.name,\"is eating\")   "
   ]
  },
  {
   "cell_type": "code",
   "execution_count": 3,
   "id": "e37aeb0a",
   "metadata": {},
   "outputs": [],
   "source": [
    "class cat:\n",
    "    def __init__(self,name):\n",
    "        self.name=name\n",
    "    def eat(self):\n",
    "        print(self.name,\"is eating\") "
   ]
  },
  {
   "cell_type": "code",
   "execution_count": 4,
   "id": "379cb60f",
   "metadata": {},
   "outputs": [],
   "source": [
    "def feedanimal(a):\n",
    "    a.eat"
   ]
  },
  {
   "cell_type": "code",
   "execution_count": 7,
   "id": "4f9457da",
   "metadata": {},
   "outputs": [
    {
     "data": {
      "text/plain": [
       "<__main__.dog at 0x15ff2c48940>"
      ]
     },
     "execution_count": 7,
     "metadata": {},
     "output_type": "execute_result"
    }
   ],
   "source": [
    "dog(\"bruno dog\")"
   ]
  },
  {
   "cell_type": "code",
   "execution_count": null,
   "id": "de7f0ec3",
   "metadata": {},
   "outputs": [],
   "source": []
  }
 ],
 "metadata": {
  "kernelspec": {
   "display_name": "Python 3 (ipykernel)",
   "language": "python",
   "name": "python3"
  },
  "language_info": {
   "codemirror_mode": {
    "name": "ipython",
    "version": 3
   },
   "file_extension": ".py",
   "mimetype": "text/x-python",
   "name": "python",
   "nbconvert_exporter": "python",
   "pygments_lexer": "ipython3",
   "version": "3.9.12"
  }
 },
 "nbformat": 4,
 "nbformat_minor": 5
}
