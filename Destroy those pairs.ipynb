{
 "cells": [
  {
   "cell_type": "code",
   "execution_count": 1,
   "id": "d3f0cb00",
   "metadata": {},
   "outputs": [
    {
     "name": "stdout",
     "output_type": "stream",
     "text": [
      "abcddce\n",
      "a b e\n"
     ]
    }
   ],
   "source": [
    "def remove_pair(str):\n",
    "    stack=[]\n",
    "    stack.append(str[0])\n",
    "    top=0\n",
    "    for i in range(1,len(str)):\n",
    "        if top>=0 and str[i] == stack[top]:\n",
    "            top-=1\n",
    "            stack.pop()\n",
    "        else:\n",
    "            top+=1\n",
    "            stack.append(str[i])\n",
    "    return ' '.join(stack)\n",
    "str=input()\n",
    "out_ = remove_pair(str)\n",
    "print(out_)"
   ]
  },
  {
   "cell_type": "code",
   "execution_count": null,
   "id": "5a85dc5b",
   "metadata": {},
   "outputs": [],
   "source": []
  }
 ],
 "metadata": {
  "kernelspec": {
   "display_name": "Python 3 (ipykernel)",
   "language": "python",
   "name": "python3"
  },
  "language_info": {
   "codemirror_mode": {
    "name": "ipython",
    "version": 3
   },
   "file_extension": ".py",
   "mimetype": "text/x-python",
   "name": "python",
   "nbconvert_exporter": "python",
   "pygments_lexer": "ipython3",
   "version": "3.9.12"
  }
 },
 "nbformat": 4,
 "nbformat_minor": 5
}
