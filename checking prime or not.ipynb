{
 "cells": [
  {
   "cell_type": "code",
   "execution_count": null,
   "id": "8f78c3b5",
   "metadata": {},
   "outputs": [],
   "source": [
    "n=int(input('Enter a number:'))\n",
    "p=0\n",
    "if n==3:\n",
    "    print(\"3 is a prime number\")\n",
    "elif (n%2)==1:\n",
    "    for i in range(3,n,2):\n",
    "    \n",
    "        if (n%i)==0:\n",
    "            p=p+1\n",
    "            print(n,\"is a not prime number\")\n",
    "            break\n",
    "    if p==0:\n",
    "        print(n, \"is a prime number\")\n",
    "elif n==2:\n",
    "    print('2 is a prime number')\n",
    "else:\n",
    "    print(n,\"is not prime  number\")\n",
    "        "
   ]
  },
  {
   "cell_type": "code",
   "execution_count": 9,
   "id": "59372128",
   "metadata": {},
   "outputs": [],
   "source": [
    "def check_prime(n):\n",
    "    p=0\n",
    "    if n==3:\n",
    "        r=0\n",
    "    elif (n%2)==1:\n",
    "        for i in range(3,n,2):\n",
    "            if (n%i)==0:\n",
    "                p=p+1\n",
    "                r=1\n",
    "                break\n",
    "        if p==0:\n",
    "            r=0\n",
    "    elif n==2:\n",
    "        r=0\n",
    "    else:\n",
    "        r=1\n",
    "    return print(n,\"is a prime number\")if r==0 else print(n,\" is not  a prime\")        "
   ]
  },
  {
   "cell_type": "code",
   "execution_count": 5,
   "id": "997b71bc",
   "metadata": {},
   "outputs": [
    {
     "name": "stdout",
     "output_type": "stream",
     "text": [
      "3 is a prime number\n"
     ]
    }
   ],
   "source": [
    "check_prime(3)"
   ]
  },
  {
   "cell_type": "code",
   "execution_count": 6,
   "id": "7c53f38d",
   "metadata": {},
   "outputs": [
    {
     "name": "stdout",
     "output_type": "stream",
     "text": [
      "5 is a prime number\n"
     ]
    }
   ],
   "source": [
    "check_prime(5)"
   ]
  },
  {
   "cell_type": "code",
   "execution_count": 7,
   "id": "8baf9aa4",
   "metadata": {},
   "outputs": [
    {
     "name": "stdout",
     "output_type": "stream",
     "text": [
      "7 is a prime number\n"
     ]
    }
   ],
   "source": [
    "check_prime(7)"
   ]
  },
  {
   "cell_type": "code",
   "execution_count": 10,
   "id": "295a53c3",
   "metadata": {},
   "outputs": [
    {
     "name": "stdout",
     "output_type": "stream",
     "text": [
      "9  is not  a prime\n"
     ]
    }
   ],
   "source": [
    "check_prime(9)"
   ]
  },
  {
   "cell_type": "code",
   "execution_count": null,
   "id": "0f4eb457",
   "metadata": {},
   "outputs": [],
   "source": []
  }
 ],
 "metadata": {
  "kernelspec": {
   "display_name": "Python 3 (ipykernel)",
   "language": "python",
   "name": "python3"
  },
  "language_info": {
   "codemirror_mode": {
    "name": "ipython",
    "version": 3
   },
   "file_extension": ".py",
   "mimetype": "text/x-python",
   "name": "python",
   "nbconvert_exporter": "python",
   "pygments_lexer": "ipython3",
   "version": "3.9.12"
  }
 },
 "nbformat": 4,
 "nbformat_minor": 5
}
