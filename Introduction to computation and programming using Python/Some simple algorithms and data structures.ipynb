{
 "cells": [
  {
   "cell_type": "code",
   "execution_count": 1,
   "id": "81dc531f",
   "metadata": {},
   "outputs": [],
   "source": [
    "def selSort(L):\n",
    "    prefixEnd = 0\n",
    "    while prefixEnd != len(L):\n",
    "        for i in range(prefixEnd,len(L)):\n",
    "            if L[i]<L[prefixEnd]:\n",
    "                L[prefixEnd],L[i]=L[i],L[prefixEnd]\n",
    "        prefixEnd+=1"
   ]
  },
  {
   "cell_type": "raw",
   "id": "49286cac",
   "metadata": {},
   "source": [
    "Merge Sort"
   ]
  },
  {
   "cell_type": "code",
   "execution_count": 3,
   "id": "94e44f76",
   "metadata": {},
   "outputs": [],
   "source": [
    "def merge(left,right,compare):\n",
    "    result=[]\n",
    "    i,j=0,0\n",
    "    while i < len(left) and j < len(right):\n",
    "        if compare(left[i],right[j]):\n",
    "            result.append(left[i])\n",
    "            i+=1\n",
    "        else :\n",
    "            result.append(right[j])\n",
    "            j+=1\n",
    "    while (i < len(left)):\n",
    "        result.append(left[i])\n",
    "        i+=1\n",
    "    while (j < len(right)):\n",
    "        result.append(right[j])\n",
    "        j+=1\n",
    "    return result"
   ]
  },
  {
   "cell_type": "code",
   "execution_count": 4,
   "id": "b96832eb",
   "metadata": {},
   "outputs": [],
   "source": [
    "import operator\n",
    "def mergeSort(L,compare=operator.lt):\n",
    "    if len(L)<2:\n",
    "        return L[:]\n",
    "    else:\n",
    "        middle = len(L)//2\n",
    "        left =mergeSort(L[:middle],compare)\n",
    "        right = mergeSort(L[middle:],compare)\n",
    "        return merge(left , right,compare)"
   ]
  },
  {
   "cell_type": "raw",
   "id": "79b465a8",
   "metadata": {},
   "source": [
    "Stochastic Programs"
   ]
  },
  {
   "cell_type": "code",
   "execution_count": 5,
   "id": "b8bce49c",
   "metadata": {},
   "outputs": [],
   "source": [
    "import random\n",
    "def rollDie():\n",
    "    return random.choice([1,2,3,4,5,6])\n",
    "def rollN(n):\n",
    "    result = ''\n",
    "    for i in range(n):\n",
    "        result=result+str(rollDie())\n",
    "    print(result)"
   ]
  },
  {
   "cell_type": "raw",
   "id": "00c334c2",
   "metadata": {},
   "source": [
    "Inferential Statistics and Simulation"
   ]
  },
  {
   "cell_type": "code",
   "execution_count": 6,
   "id": "ed33aa5d",
   "metadata": {},
   "outputs": [],
   "source": [
    "def flip(numFlips):\n",
    "    heads =0.0\n",
    "    for i in range(numFlips):\n",
    "        if random.random()<0.5:\n",
    "            heads+=1\n",
    "    return heads/numFlips\n",
    "def flipSim(numFlipsPerTrial,numTrials):\n",
    "    fracHeads=[]\n",
    "    for i in range(numTrials):\n",
    "        fracHeads.append(flip(numFlipsPerTrial))\n",
    "    mean=sum(fracHeads)/len(fracHeads)\n",
    "    return mean"
   ]
  },
  {
   "cell_type": "code",
   "execution_count": null,
   "id": "f320cc19",
   "metadata": {},
   "outputs": [],
   "source": []
  }
 ],
 "metadata": {
  "kernelspec": {
   "display_name": "Python 3 (ipykernel)",
   "language": "python",
   "name": "python3"
  },
  "language_info": {
   "codemirror_mode": {
    "name": "ipython",
    "version": 3
   },
   "file_extension": ".py",
   "mimetype": "text/x-python",
   "name": "python",
   "nbconvert_exporter": "python",
   "pygments_lexer": "ipython3",
   "version": "3.9.12"
  }
 },
 "nbformat": 4,
 "nbformat_minor": 5
}
