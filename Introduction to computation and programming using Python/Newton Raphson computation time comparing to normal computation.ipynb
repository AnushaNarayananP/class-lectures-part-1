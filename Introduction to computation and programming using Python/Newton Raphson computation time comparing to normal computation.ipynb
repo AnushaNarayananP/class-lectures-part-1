{
 "cells": [
  {
   "cell_type": "code",
   "execution_count": 4,
   "id": "b6afa42e",
   "metadata": {},
   "outputs": [],
   "source": [
    "import sympy as sym\n",
    "from sympy import symbols, Function\n",
    "from sympy.abc import x, y\n",
    "from sympy import diff\n",
    "import time"
   ]
  },
  {
   "cell_type": "raw",
   "id": "f5eb5496",
   "metadata": {},
   "source": [
    "root of an equation using newton raphson"
   ]
  },
  {
   "cell_type": "code",
   "execution_count": 5,
   "id": "cc3784b2",
   "metadata": {},
   "outputs": [
    {
     "name": "stdout",
     "output_type": "stream",
     "text": [
      "Enter the equation here:x**2-24\n",
      "The root is 49/10\n",
      "The Newton Raphson time 0.0019931793212890625\n"
     ]
    }
   ],
   "source": [
    "expr=input('Enter the equation here:')\n",
    "start = time.time()\n",
    "Epsilon=0.01\n",
    "func=eval(expr)\n",
    "y=1\n",
    "while func.subs(x,y) <0  :\n",
    "    a= y     \n",
    "    y+=1\n",
    "    b=y\n",
    "if func.subs(x,y)==0:\n",
    "    a=y\n",
    "else  :\n",
    "    if abs(a)> abs(b):\n",
    "        a=b\n",
    "    else:\n",
    "        pass\n",
    "x=sym.symbols('x')\n",
    "while abs(func.subs(x,a))>=Epsilon:\n",
    "    a=(x-(func/diff(func,x))).subs(x,a)\n",
    "end =time.time()\n",
    "print('The root is',a)\n",
    "print('The Newton Raphson time',end-start)"
   ]
  },
  {
   "cell_type": "code",
   "execution_count": 6,
   "id": "a45d4158",
   "metadata": {},
   "outputs": [
    {
     "name": "stdout",
     "output_type": "stream",
     "text": [
      "root of 24 is 4.898979485566356\n",
      "normal computation time is  0.0\n"
     ]
    }
   ],
   "source": [
    "start = time.time()\n",
    "print('root of 24 is',24**(1/2))\n",
    "end =time.time()\n",
    "print('normal computation time is ',end-start)"
   ]
  },
  {
   "cell_type": "code",
   "execution_count": null,
   "id": "4717d405",
   "metadata": {},
   "outputs": [],
   "source": []
  }
 ],
 "metadata": {
  "kernelspec": {
   "display_name": "Python 3 (ipykernel)",
   "language": "python",
   "name": "python3"
  },
  "language_info": {
   "codemirror_mode": {
    "name": "ipython",
    "version": 3
   },
   "file_extension": ".py",
   "mimetype": "text/x-python",
   "name": "python",
   "nbconvert_exporter": "python",
   "pygments_lexer": "ipython3",
   "version": "3.9.12"
  }
 },
 "nbformat": 4,
 "nbformat_minor": 5
}
