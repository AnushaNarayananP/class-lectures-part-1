{
 "cells": [
  {
   "cell_type": "raw",
   "id": "e17b9b2f",
   "metadata": {},
   "source": [
    "squaring a number using addition"
   ]
  },
  {
   "cell_type": "code",
   "execution_count": 2,
   "id": "989bca3b",
   "metadata": {},
   "outputs": [
    {
     "name": "stdout",
     "output_type": "stream",
     "text": [
      "3*3=9\n"
     ]
    }
   ],
   "source": [
    "x=3\n",
    "ans=0\n",
    "itersleft=x\n",
    "while(itersleft != 0):\n",
    "    ans=ans+x\n",
    "    itersleft -=1\n",
    "print (str(x) + '*' +str(x) + '='+ str(ans))"
   ]
  },
  {
   "cell_type": "raw",
   "id": "085d0d95",
   "metadata": {},
   "source": [
    "Find the cube root of the perfect cube"
   ]
  },
  {
   "cell_type": "code",
   "execution_count": 4,
   "id": "80fb32f0",
   "metadata": {},
   "outputs": [
    {
     "name": "stdout",
     "output_type": "stream",
     "text": [
      "Enter an integer :8\n",
      "Cube root of8is2\n"
     ]
    }
   ],
   "source": [
    "x=int(input('Enter an integer :'))\n",
    "ans=0\n",
    "while ans**3 < abs(x):\n",
    "    ans=ans+1\n",
    "if ans**3 != abs(x):\n",
    "    print(x,'is not a perfect cube')\n",
    "else :\n",
    "    if x<0:\n",
    "        ans=-ans\n",
    "    print('Cube root of'+str(x)+'is'+str(ans))"
   ]
  },
  {
   "cell_type": "raw",
   "id": "1196e5a6",
   "metadata": {},
   "source": [
    "Write a program that asks the user to enter an integer and prints two integers, root and pwr ,such that 0<pwr<6 and (root)**pwr is equal to the integer entered by the user.if no such pair of integers exists ,it should print a message to that effect."
   ]
  },
  {
   "cell_type": "code",
   "execution_count": null,
   "id": "61dbf203",
   "metadata": {},
   "outputs": [],
   "source": [
    "x=int(input('Enter an integer :'))\n",
    "root=0\n",
    "\n",
    "while root <abs(x//2) :\n",
    "    for pwr in range(1,6):\n",
    "        while root**pwr > abs(x):\n",
    "            break\n",
    "    root+=1    \n",
    "if root**pwr != abs(x):\n",
    "    print(x,'cannot be factorized')\n",
    "else :\n",
    "    if x<0 and x%2==1:\n",
    "        root =-root\n",
    "        print('power and root of'+str(x)+'is'+str(pwr)+str(root))\n",
    "    else:\n",
    "        print('power and root of'+str(x)+'is'+str(pwr)+str(root))\n"
   ]
  },
  {
   "cell_type": "raw",
   "id": "c951ffbc",
   "metadata": {},
   "source": [
    "Approximating the square root using exhaustive enumeration"
   ]
  },
  {
   "cell_type": "code",
   "execution_count": 10,
   "id": "16ba13f0",
   "metadata": {},
   "outputs": [
    {
     "name": "stdout",
     "output_type": "stream",
     "text": [
      "numguesses = 49990\n",
      "4.999000000001688 is close to square root of  25\n"
     ]
    }
   ],
   "source": [
    "x=25\n",
    "epsilon =0.01\n",
    "step=epsilon**2\n",
    "numguesses =0\n",
    "ans=0.0\n",
    "while abs(ans**2 - x)>=epsilon and ans<=x:\n",
    "    ans+=step\n",
    "    numguesses +=1\n",
    "print('numguesses =',numguesses)\n",
    "if abs(ans**2-x)>=epsilon:\n",
    "    print('Failed on square root of ',x)\n",
    "else:\n",
    "    print( ans, 'is close to square root of ',x)"
   ]
  },
  {
   "cell_type": "raw",
   "id": "0fa382a1",
   "metadata": {},
   "source": [
    "Using bisection search to approximate square root"
   ]
  },
  {
   "cell_type": "code",
   "execution_count": 13,
   "id": "16a85373",
   "metadata": {},
   "outputs": [
    {
     "name": "stdout",
     "output_type": "stream",
     "text": [
      "low= 0.0 high= 25 ans= 12.5\n",
      "low= 0.0 high= 12.5 ans= 6.25\n",
      "low= 0.0 high= 6.25 ans= 3.125\n",
      "low= 3.125 high= 6.25 ans= 4.6875\n",
      "low= 4.6875 high= 6.25 ans= 5.46875\n",
      "low= 4.6875 high= 5.46875 ans= 5.078125\n",
      "low= 4.6875 high= 5.078125 ans= 4.8828125\n",
      "low= 4.8828125 high= 5.078125 ans= 4.98046875\n",
      "low= 4.98046875 high= 5.078125 ans= 5.029296875\n",
      "low= 4.98046875 high= 5.029296875 ans= 5.0048828125\n",
      "low= 4.98046875 high= 5.0048828125 ans= 4.99267578125\n",
      "low= 4.99267578125 high= 5.0048828125 ans= 4.998779296875\n",
      "low= 4.998779296875 high= 5.0048828125 ans= 5.0018310546875\n",
      "numGuesses= 13\n",
      "5.00030517578125 is close to square root of 25\n"
     ]
    }
   ],
   "source": [
    "x=25\n",
    "epsilon=0.01\n",
    "numGuesses=0\n",
    "low=0.0\n",
    "high=max(1.0,x)\n",
    "ans=(high + low)/2.0\n",
    "while abs(ans**2 -x)>=epsilon:\n",
    "    print('low=',low,'high=',high,'ans=',ans)\n",
    "    numGuesses+=1\n",
    "    if ans**2 <x:\n",
    "        low=ans\n",
    "    else:\n",
    "        high=ans\n",
    "    ans=(high+low)/2.0\n",
    "print ('numGuesses=',numGuesses)\n",
    "print(ans,'is close to square root of',x)"
   ]
  },
  {
   "cell_type": "raw",
   "id": "ce601c66",
   "metadata": {},
   "source": [
    "Newton Raphson for square root\n",
    "Find x such that x**2-24 is within epsilon of 0"
   ]
  },
  {
   "cell_type": "code",
   "execution_count": 15,
   "id": "bf0bf865",
   "metadata": {},
   "outputs": [
    {
     "name": "stdout",
     "output_type": "stream",
     "text": [
      "Square root of 24.0 is about 4.8989887432139305\n"
     ]
    }
   ],
   "source": [
    "\n",
    "Epsilon =0.01\n",
    "y=24.0\n",
    "guess= y/2.0\n",
    "while abs(guess*guess-y)>=Epsilon:\n",
    "    guess=guess-(((guess**2)-y)/(2*guess))\n",
    "print( 'Square root of',y,'is about',guess)"
   ]
  },
  {
   "cell_type": "code",
   "execution_count": 20,
   "id": "adc3a8db",
   "metadata": {},
   "outputs": [
    {
     "name": "stdout",
     "output_type": "stream",
     "text": [
      "Square root of 24.0 is about 4.898996732283414\n"
     ]
    }
   ],
   "source": [
    "Epsilon =0.01\n",
    "y=24.0\n",
    "guess= y/1.0\n",
    "while abs(guess*guess-y)>=Epsilon:\n",
    "    guess=guess-(((guess**2)-y)/(2*guess))\n",
    "print( 'Square root of',y,'is about',guess)"
   ]
  },
  {
   "cell_type": "code",
   "execution_count": 23,
   "id": "8e78b215",
   "metadata": {},
   "outputs": [],
   "source": [
    "import matplotlib.pyplot as plt"
   ]
  },
  {
   "cell_type": "code",
   "execution_count": 42,
   "id": "994ffecc",
   "metadata": {},
   "outputs": [
    {
     "data": {
      "text/plain": [
       "[<matplotlib.lines.Line2D at 0x2298f57f8b0>]"
      ]
     },
     "execution_count": 42,
     "metadata": {},
     "output_type": "execute_result"
    },
    {
     "data": {
      "image/png": "[encoded data removed]",
      "text/plain": [
       "<Figure size 432x288 with 1 Axes>"
      ]
     },
     "metadata": {
      "needs_background": "light"
     },
     "output_type": "display_data"
    }
   ],
   "source": [
    "Epsilon =0.01\n",
    "y=24.0\n",
    "x=[]\n",
    "z=[]\n",
    "for i in range(1,200):\n",
    "    guess= y/i\n",
    "    while abs(guess*guess-y)>=Epsilon:\n",
    "        guess=guess-(((guess**2)-y)/(2*guess))\n",
    "    \n",
    "    x.append(i)\n",
    "    z.append(guess)\n",
    "plt.plot(x,z)"
   ]
  },
  {
   "cell_type": "code",
   "execution_count": 43,
   "id": "b885a210",
   "metadata": {},
   "outputs": [
    {
     "name": "stdout",
     "output_type": "stream",
     "text": [
      "Requirement already satisfied: sympy in c:\\users\\lenovo\\anaconda3\\lib\\site-packages (1.10.1)\n",
      "Requirement already satisfied: mpmath>=0.19 in c:\\users\\lenovo\\anaconda3\\lib\\site-packages (from sympy) (1.2.1)\n"
     ]
    }
   ],
   "source": [
    "!pip install sympy"
   ]
  },
  {
   "cell_type": "code",
   "execution_count": 44,
   "id": "4730046e",
   "metadata": {},
   "outputs": [],
   "source": [
    "import sympy as sym"
   ]
  },
  {
   "cell_type": "code",
   "execution_count": 58,
   "id": "f8cccb9a",
   "metadata": {},
   "outputs": [],
   "source": [
    "from sympy import symbols, Function\n",
    "from sympy.abc import x, y\n",
    "from sympy import diff"
   ]
  },
  {
   "cell_type": "code",
   "execution_count": 61,
   "id": "d5bfb73c",
   "metadata": {},
   "outputs": [
    {
     "data": {
      "text/latex": [
       "$\\displaystyle \\frac{25}{2}$"
      ],
      "text/plain": [
       "25/2"
      ]
     },
     "execution_count": 61,
     "metadata": {},
     "output_type": "execute_result"
    }
   ],
   "source": [
    "\n",
    "\n",
    "\n",
    "\n",
    "x=sym.symbols('x')\n",
    "func =(x**2)-24\n",
    "\n",
    "(x-(func/diff(func,x))).subs(x,24)\n"
   ]
  },
  {
   "cell_type": "code",
   "execution_count": null,
   "id": "24ae7bbb",
   "metadata": {},
   "outputs": [],
   "source": [
    "Fib"
   ]
  },
  {
   "cell_type": "code",
   "execution_count": 66,
   "id": "2178846c",
   "metadata": {},
   "outputs": [
    {
     "name": "stdout",
     "output_type": "stream",
     "text": [
      "Enter the equation here:x**2-24\n",
      "49/10\n"
     ]
    }
   ],
   "source": []
  },
  {
   "cell_type": "code",
   "execution_count": null,
   "id": "54896473",
   "metadata": {},
   "outputs": [],
   "source": []
  }
 ],
 "metadata": {
  "kernelspec": {
   "display_name": "Python 3 (ipykernel)",
   "language": "python",
   "name": "python3"
  },
  "language_info": {
   "codemirror_mode": {
    "name": "ipython",
    "version": 3
   },
   "file_extension": ".py",
   "mimetype": "text/x-python",
   "name": "python",
   "nbconvert_exporter": "python",
   "pygments_lexer": "ipython3",
   "version": "3.9.12"
  }
 },
 "nbformat": 4,
 "nbformat_minor": 5
}
