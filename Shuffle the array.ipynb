{
 "cells": [
  {
   "cell_type": "code",
   "execution_count": 9,
   "id": "b6d41d9e",
   "metadata": {},
   "outputs": [],
   "source": [
    "def shuffle_the_array(n,arr):\n",
    "    first_half=arr[0:n]\n",
    "    second_half=arr[n:2*n]\n",
    "    res=[]\n",
    "    i=0\n",
    "    while i<n :\n",
    "        res.append(first_half[i])\n",
    "        res.append(second_half[i])\n",
    "        i+=1\n",
    "    return res"
   ]
  },
  {
   "cell_type": "code",
   "execution_count": 10,
   "id": "6e1feee1",
   "metadata": {},
   "outputs": [
    {
     "name": "stdout",
     "output_type": "stream",
     "text": [
      "3\n",
      "2 5 1 3 4 7\n",
      "2 3 5 4 1 7\n"
     ]
    }
   ],
   "source": [
    "n=int(input())\n",
    "arr=list(map(int,input().split()))\n",
    "out_=shuffle_the_array(n,arr)\n",
    "print(' '.join(map(str,out_)))"
   ]
  },
  {
   "cell_type": "code",
   "execution_count": null,
   "id": "98470772",
   "metadata": {},
   "outputs": [],
   "source": []
  }
 ],
 "metadata": {
  "kernelspec": {
   "display_name": "Python 3 (ipykernel)",
   "language": "python",
   "name": "python3"
  },
  "language_info": {
   "codemirror_mode": {
    "name": "ipython",
    "version": 3
   },
   "file_extension": ".py",
   "mimetype": "text/x-python",
   "name": "python",
   "nbconvert_exporter": "python",
   "pygments_lexer": "ipython3",
   "version": "3.9.12"
  }
 },
 "nbformat": 4,
 "nbformat_minor": 5
}
