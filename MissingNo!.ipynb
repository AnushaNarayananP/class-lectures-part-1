{
 "cells": [
  {
   "cell_type": "code",
   "execution_count": 2,
   "id": "644ca034",
   "metadata": {},
   "outputs": [
    {
     "name": "stdout",
     "output_type": "stream",
     "text": [
      "4\n",
      "4 1 2\n",
      "3\n"
     ]
    }
   ],
   "source": [
    "def missing_no(n,arr):\n",
    "    res= n*(n+1)/2\n",
    "    array_sum=0\n",
    "    for i in range(n-1):\n",
    "        array_sum=array_sum +arr[i]\n",
    "    res=res-array_sum\n",
    "    return (int)(res)\n",
    "n=int(input())\n",
    "arr=list(map(int,input().split()))\n",
    "out_= missing_no(n,arr)\n",
    "print(out_)"
   ]
  },
  {
   "cell_type": "code",
   "execution_count": null,
   "id": "08307418",
   "metadata": {},
   "outputs": [],
   "source": []
  }
 ],
 "metadata": {
  "kernelspec": {
   "display_name": "Python 3 (ipykernel)",
   "language": "python",
   "name": "python3"
  },
  "language_info": {
   "codemirror_mode": {
    "name": "ipython",
    "version": 3
   },
   "file_extension": ".py",
   "mimetype": "text/x-python",
   "name": "python",
   "nbconvert_exporter": "python",
   "pygments_lexer": "ipython3",
   "version": "3.9.12"
  }
 },
 "nbformat": 4,
 "nbformat_minor": 5
}
