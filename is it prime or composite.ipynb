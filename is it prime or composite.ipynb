{
 "cells": [
  {
   "cell_type": "code",
   "execution_count": null,
   "id": "e2fd738e",
   "metadata": {},
   "outputs": [],
   "source": [
    "n=int(input('Enter a number:'))\n",
    "p=0\n",
    "if n==3:\n",
    "    print(\"3 is a prime number\")\n",
    "elif (n%2)==1:\n",
    "    for i in range(3,n,2):\n",
    "    \n",
    "        if (n%i)==0:\n",
    "            p=p+1\n",
    "            print(n,\"is a composite number\")\n",
    "            break\n",
    "    if p==0:\n",
    "        print(n, \"is a prime number\")\n",
    "elif n==2:\n",
    "    print('2 is a prime number')\n",
    "else:\n",
    "    print(n,\"is a composite number \")\n",
    "        "
   ]
  },
  {
   "cell_type": "code",
   "execution_count": null,
   "id": "37a465b9",
   "metadata": {},
   "outputs": [],
   "source": [
    "n"
   ]
  },
  {
   "cell_type": "code",
   "execution_count": null,
   "id": "e4c73aa7",
   "metadata": {},
   "outputs": [],
   "source": []
  }
 ],
 "metadata": {
  "kernelspec": {
   "display_name": "Python 3 (ipykernel)",
   "language": "python",
   "name": "python3"
  },
  "language_info": {
   "codemirror_mode": {
    "name": "ipython",
    "version": 3
   },
   "file_extension": ".py",
   "mimetype": "text/x-python",
   "name": "python",
   "nbconvert_exporter": "python",
   "pygments_lexer": "ipython3",
   "version": "3.9.12"
  }
 },
 "nbformat": 4,
 "nbformat_minor": 5
}
