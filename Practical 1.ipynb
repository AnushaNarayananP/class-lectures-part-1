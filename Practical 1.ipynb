{
 "cells": [
  {
   "cell_type": "markdown",
   "id": "0c022a85",
   "metadata": {},
   "source": [
    "1."
   ]
  },
  {
   "cell_type": "code",
   "execution_count": 1,
   "id": "19696d92",
   "metadata": {},
   "outputs": [
    {
     "name": "stdout",
     "output_type": "stream",
     "text": [
      "Enter a number :100\n",
      "Hexa decimal of  100 0x64\n",
      "octal of 100 0o144\n",
      "square root of 100 10.0\n"
     ]
    }
   ],
   "source": [
    "num = eval(input('Enter a number :'))\n",
    "print(\"Hexa decimal of \" ,num ,hex(num)) \n",
    "print(\"octal of\" ,num ,oct(num))\n",
    "print(\"square root of\" ,num ,(num**0.5))"
   ]
  },
  {
   "cell_type": "markdown",
   "id": "19a94be3",
   "metadata": {},
   "source": [
    "2."
   ]
  },
  {
   "cell_type": "code",
   "execution_count": 3,
   "id": "e95ca642",
   "metadata": {},
   "outputs": [
    {
     "name": "stdout",
     "output_type": "stream",
     "text": [
      "Enter a number45\n",
      "Enter a number45.8\n",
      "Enter your namekala\n",
      "Enter a booleanTrue\n",
      "<class 'int'>\n",
      "<class 'float'>\n",
      "<class 'str'>\n",
      "<class 'bool'>\n"
     ]
    }
   ],
   "source": [
    "num=eval(input(\"Enter a number\"))\n",
    "pi=eval(input(\"Enter a number\"))\n",
    "str=input(\"Enter your name\")\n",
    "boolean=eval(input(\"Enter a boolean\"))\n",
    "print(type(num))\n",
    "print(type(pi)) \n",
    "print(type(str)) \n",
    "print(type(boolean))\n",
    "       "
   ]
  },
  {
   "cell_type": "markdown",
   "id": "09d714ea",
   "metadata": {},
   "source": [
    "3."
   ]
  },
  {
   "cell_type": "code",
   "execution_count": 4,
   "id": "3a624a99",
   "metadata": {},
   "outputs": [
    {
     "name": "stdout",
     "output_type": "stream",
     "text": [
      "Enter the first side of the triangle :3\n",
      "Enter the second side of the triangle:4\n",
      "Enter the thirsd side of the triangle:5\n",
      "3 4 5\n",
      "6.0\n"
     ]
    }
   ],
   "source": [
    "a=eval(input('Enter the first side of the triangle :'))\n",
    "b=eval(input('Enter the second side of the triangle:'))\n",
    "c=eval(input('Enter the thirsd side of the triangle:'))\n",
    "print(a,b,c)\n",
    "s=(a+b+c)/2\n",
    "area = (s*(s-a)*(s-b)*(s-c))**0.5\n",
    "print(area)"
   ]
  },
  {
   "cell_type": "markdown",
   "id": "c0142d72",
   "metadata": {},
   "source": [
    "4."
   ]
  },
  {
   "cell_type": "code",
   "execution_count": 5,
   "id": "a5ee1653",
   "metadata": {},
   "outputs": [
    {
     "name": "stdout",
     "output_type": "stream",
     "text": [
      "Radius of circle :4\n",
      "Area of the circle= 50.24\n"
     ]
    }
   ],
   "source": [
    "r= eval(input('Radius of circle :'))\n",
    "Area= 3.14*r*r\n",
    "print('Area of the circle=',Area)"
   ]
  },
  {
   "cell_type": "markdown",
   "id": "34216f21",
   "metadata": {},
   "source": [
    "5."
   ]
  },
  {
   "cell_type": "code",
   "execution_count": 6,
   "id": "4a0ac60b",
   "metadata": {},
   "outputs": [
    {
     "name": "stdout",
     "output_type": "stream",
     "text": [
      "Length of a rectangle:8\n",
      "Breadth of a rectangle:4\n",
      "24\n"
     ]
    }
   ],
   "source": [
    "l=eval(input('Length of a rectangle:'))\n",
    "b=eval(input('Breadth of a rectangle:'))\n",
    "Perimeter =2*(l+b)\n",
    "print(Perimeter)"
   ]
  },
  {
   "cell_type": "markdown",
   "id": "f10d19ed",
   "metadata": {},
   "source": [
    "6."
   ]
  },
  {
   "cell_type": "code",
   "execution_count": 7,
   "id": "58d3e51b",
   "metadata": {},
   "outputs": [
    {
     "name": "stdout",
     "output_type": "stream",
     "text": [
      "Enter x1 :1\n",
      "Enter y1 :2\n",
      "Enter x2 :3\n",
      "Enter y2 :4\n",
      "2.8284271247461903\n"
     ]
    }
   ],
   "source": [
    "x1,y1=eval(input('Enter x1 :')),eval(input('Enter y1 :'))\n",
    "x2,y2=eval(input('Enter x2 :')),eval(input('Enter y2 :'))\n",
    "dist=((x1-x2)**2+(y1-y2)**2)**0.5\n",
    "print(dist)"
   ]
  },
  {
   "cell_type": "markdown",
   "id": "e549be24",
   "metadata": {},
   "source": [
    "7."
   ]
  },
  {
   "cell_type": "code",
   "execution_count": 9,
   "id": "e5634358",
   "metadata": {},
   "outputs": [
    {
     "name": "stdout",
     "output_type": "stream",
     "text": [
      "Enter integer 1 :3\n",
      "Enter integer 2 :5\n",
      "Addition: 8\n",
      "Subtraction: -2\n",
      "Multiplication: 15\n",
      "Division: 0.6\n",
      "Integer division 0\n",
      "Modulo division 3\n"
     ]
    }
   ],
   "source": [
    "a,b=int(input('Enter integer 1 :')),eval(input('Enter integer 2 :'))\n",
    "print('Addition:',a+b)\n",
    "print('Subtraction:',a-b)\n",
    "print('Multiplication:',a*b)\n",
    "print('Division:',a/b)\n",
    "print('Integer division',a//b)\n",
    "print('Modulo division',a%b)"
   ]
  },
  {
   "cell_type": "markdown",
   "id": "0b1b7760",
   "metadata": {},
   "source": [
    "8."
   ]
  },
  {
   "cell_type": "code",
   "execution_count": 10,
   "id": "9be2ac81",
   "metadata": {},
   "outputs": [
    {
     "name": "stdout",
     "output_type": "stream",
     "text": [
      "Enter integer 1 :6.7\n",
      "Enter integer 2 :7.8\n",
      "Addition: 14.5\n",
      "Subtraction: -1.0999999999999996\n",
      "Multiplication: 52.26\n",
      "Division: 0.858974358974359\n",
      "Integer division 0.0\n",
      "Modulo division 6.7\n"
     ]
    }
   ],
   "source": [
    "a,b=float(input('Enter integer 1 :')),eval(input('Enter integer 2 :'))\n",
    "print('Addition:',a+b)\n",
    "print('Subtraction:',a-b)\n",
    "print('Multiplication:',a*b)\n",
    "print('Division:',a/b)\n",
    "print('Integer division',a//b)\n",
    "print('Modulo division',a%b)"
   ]
  },
  {
   "cell_type": "markdown",
   "id": "36468a97",
   "metadata": {},
   "source": [
    "9."
   ]
  },
  {
   "cell_type": "code",
   "execution_count": 11,
   "id": "32ab94d8",
   "metadata": {},
   "outputs": [
    {
     "name": "stdout",
     "output_type": "stream",
     "text": [
      "Enter integer 1 :4\n",
      "Enter integer 2 :2\n",
      "average of two nos.: 3.0\n",
      "deviation of a : 1.0\n",
      "deviation of b : -1.0\n"
     ]
    }
   ],
   "source": [
    "a,b=float(input('Enter integer 1 :')),eval(input('Enter integer 2 :'))\n",
    "print('average of two nos.:',(a+b)/2)\n",
    "print('deviation of a :',a-((a+b)/2))\n",
    "print('deviation of b :',b-((a+b)/2))\n",
    " "
   ]
  },
  {
   "cell_type": "markdown",
   "id": "51d07224",
   "metadata": {},
   "source": [
    "10."
   ]
  },
  {
   "cell_type": "code",
   "execution_count": 12,
   "id": "4d5a7ebf",
   "metadata": {},
   "outputs": [
    {
     "name": "stdout",
     "output_type": "stream",
     "text": [
      "Enter a number to round at ones place:1.3455678\n",
      "1.3\n"
     ]
    }
   ],
   "source": [
    "a=eval(input('Enter a number to round at ones place:'))\n",
    "print(round(a,1))\n"
   ]
  },
  {
   "cell_type": "markdown",
   "id": "e6a87167",
   "metadata": {},
   "source": [
    "11."
   ]
  },
  {
   "cell_type": "code",
   "execution_count": 13,
   "id": "0cfaa432",
   "metadata": {},
   "outputs": [
    {
     "name": "stdout",
     "output_type": "stream",
     "text": [
      "Enter the no. :3\n",
      "On converting Farenheit to degree Celsius = -16.11111111111111\n"
     ]
    }
   ],
   "source": [
    "F=float(input('Enter the no. :'))\n",
    "print('On converting Farenheit to degree Celsius =' ,(5/9)*(F-32))"
   ]
  },
  {
   "cell_type": "markdown",
   "id": "af075c81",
   "metadata": {},
   "source": [
    "12."
   ]
  },
  {
   "cell_type": "code",
   "execution_count": 14,
   "id": "c6d6daf1",
   "metadata": {},
   "outputs": [
    {
     "name": "stdout",
     "output_type": "stream",
     "text": [
      "Enter the no. :10\n",
      "Enter the no. :5\n",
      "Enter the no. :2\n",
      "Enter the no. :1\n",
      "Total amount in piggy bank: 18.0\n"
     ]
    }
   ],
   "source": [
    "a,b,c,d=float(input('Enter the no. :')),float(input('Enter the no. :')),float(input('Enter the no. :')),float(input('Enter the no. :'))\n",
    "print('Total amount in piggy bank:',a+b+c+d)\n"
   ]
  },
  {
   "cell_type": "markdown",
   "id": "f568f9c7",
   "metadata": {},
   "source": [
    "13."
   ]
  },
  {
   "cell_type": "code",
   "execution_count": 21,
   "id": "259b4afb",
   "metadata": {},
   "outputs": [
    {
     "name": "stdout",
     "output_type": "stream",
     "text": [
      "Enter the quantity of items sold:80\n",
      "Enter the value of the item:100\n",
      "Enter the discount percentage:10\n",
      "Enter the tax:14\n",
      "Quantity sold= 80.0\n",
      "Price per item= 100.0\n",
      "Amount= 8000.0\n",
      "Discount= 800.0\n",
      "Discounted total: 7200.0\n",
      "Tax= 1008.0\n",
      "Total amount to be paid 8208.0\n"
     ]
    }
   ],
   "source": [
    "quantity=float(input('Enter the quantity of items sold:'))\n",
    "value = float(input('Enter the value of the item:'))\n",
    "discount=float(input('Enter the discount percentage:'))\n",
    "tax=float(input('Enter the tax:'))\n",
    "amount=quantity*value\n",
    "discount_amount=amount*discount/100\n",
    "subtotal=amount-discount_amount\n",
    "tax_amount=subtotal*tax/100\n",
    "total_amount=subtotal+tax_amount\n",
    "print('Quantity sold=',quantity)\n",
    "print('Price per item=',value)\n",
    "print('Amount=',amount)\n",
    "print('Discount=',discount_amount)\n",
    "print('Discounted total:',subtotal)\n",
    "print('Tax=',tax_amount)\n",
    "print('Total amount to be paid',total_amount)"
   ]
  },
  {
   "cell_type": "markdown",
   "id": "a95d81f8",
   "metadata": {},
   "source": [
    "14."
   ]
  },
  {
   "cell_type": "code",
   "execution_count": 15,
   "id": "deb2d9e6",
   "metadata": {},
   "outputs": [
    {
     "name": "stdout",
     "output_type": "stream",
     "text": [
      "Enter the no. :2.6789\n",
      "On converting float to integer: 2\n"
     ]
    }
   ],
   "source": [
    "a=float(input('Enter the no. :'))\n",
    "print('On converting float to integer:',int(a))"
   ]
  },
  {
   "cell_type": "markdown",
   "id": "ea8fd3f9",
   "metadata": {},
   "source": [
    "15."
   ]
  },
  {
   "cell_type": "code",
   "execution_count": 17,
   "id": "01807be3",
   "metadata": {},
   "outputs": [
    {
     "name": "stdout",
     "output_type": "stream",
     "text": [
      "Total amount of Salary:10000\n",
      "gross salary= 4000.0\n"
     ]
    }
   ],
   "source": [
    "a=float(input('Total amount of Salary:'))\n",
    "print('gross salary=',a-0.4*a-0.2*a)"
   ]
  },
  {
   "cell_type": "markdown",
   "id": "98c95ade",
   "metadata": {},
   "source": [
    "16."
   ]
  },
  {
   "cell_type": "code",
   "execution_count": 19,
   "id": "fff21dfc",
   "metadata": {},
   "outputs": [
    {
     "name": "stdout",
     "output_type": "stream",
     "text": [
      "Enter the p :1\n",
      "Enter the r :3\n",
      "Enter the t :2\n",
      "Simple Interest: 0.06\n"
     ]
    }
   ],
   "source": [
    "p,r,t=float(input('Enter the p :')),float(input('Enter the r :')),float(input('Enter the t :'))\n",
    "I=p*r*t/100\n",
    "print('Simple Interest:',I)"
   ]
  },
  {
   "cell_type": "code",
   "execution_count": null,
   "id": "dc7601f7",
   "metadata": {},
   "outputs": [],
   "source": []
  }
 ],
 "metadata": {
  "kernelspec": {
   "display_name": "Python 3 (ipykernel)",
   "language": "python",
   "name": "python3"
  },
  "language_info": {
   "codemirror_mode": {
    "name": "ipython",
    "version": 3
   },
   "file_extension": ".py",
   "mimetype": "text/x-python",
   "name": "python",
   "nbconvert_exporter": "python",
   "pygments_lexer": "ipython3",
   "version": "3.9.12"
  }
 },
 "nbformat": 4,
 "nbformat_minor": 5
}
