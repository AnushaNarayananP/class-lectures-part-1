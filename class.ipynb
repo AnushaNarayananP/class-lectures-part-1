{
 "cells": [
  {
   "cell_type": "code",
   "execution_count": 16,
   "id": "3c3a619d",
   "metadata": {},
   "outputs": [],
   "source": [
    "class Employee:\n",
    "    def __init__(self,ename,eno):\n",
    "        self.ename=ename\n",
    "        self.eno=eno\n",
    "    def display(self):\n",
    "        print(self.ename)\n",
    "        print(self.eno)"
   ]
  },
  {
   "cell_type": "code",
   "execution_count": 2,
   "id": "c6eafed8",
   "metadata": {},
   "outputs": [],
   "source": [
    "e=Employee('samir',121)"
   ]
  },
  {
   "cell_type": "code",
   "execution_count": 3,
   "id": "4191c65f",
   "metadata": {},
   "outputs": [
    {
     "name": "stdout",
     "output_type": "stream",
     "text": [
      "samir\n",
      "121\n"
     ]
    }
   ],
   "source": [
    "e.display()"
   ]
  },
  {
   "cell_type": "code",
   "execution_count": 4,
   "id": "32da7af3",
   "metadata": {},
   "outputs": [],
   "source": [
    "class Manager:\n",
    "    def __init__(self,ename,eno,erole):\n",
    "        self.ename=ename\n",
    "        self.eno=eno\n",
    "        self.erole=erole\n",
    "    def display(self):\n",
    "        print(self.ename)\n",
    "        print(self.eno)\n",
    "        print(self.erole)"
   ]
  },
  {
   "cell_type": "code",
   "execution_count": 5,
   "id": "4f79e217",
   "metadata": {},
   "outputs": [],
   "source": [
    "m=Manager(\"anusha\",121,\"asst manager\")"
   ]
  },
  {
   "cell_type": "code",
   "execution_count": 6,
   "id": "a503622b",
   "metadata": {},
   "outputs": [
    {
     "name": "stdout",
     "output_type": "stream",
     "text": [
      "anusha\n",
      "121\n",
      "asst manager\n"
     ]
    }
   ],
   "source": [
    "m.display()"
   ]
  },
  {
   "cell_type": "code",
   "execution_count": 7,
   "id": "0f17e43f",
   "metadata": {},
   "outputs": [],
   "source": [
    "class Manager(Employee):\n",
    "    def __init__(self,ename,eno,erole):\n",
    "        Employee.__init__(self,ename,eno)\n",
    "        self.erole=erole\n",
    "    def display(self):\n",
    "        Employee.display(self)\n",
    "        print(self.erole)"
   ]
  },
  {
   "cell_type": "code",
   "execution_count": 8,
   "id": "9f825342",
   "metadata": {},
   "outputs": [],
   "source": [
    "m=Manager(\"anusha\",121,\"asst manager\")"
   ]
  },
  {
   "cell_type": "code",
   "execution_count": 9,
   "id": "148fd427",
   "metadata": {},
   "outputs": [
    {
     "name": "stdout",
     "output_type": "stream",
     "text": [
      "anusha\n",
      "121\n",
      "asst manager\n"
     ]
    }
   ],
   "source": [
    "m.display()"
   ]
  },
  {
   "cell_type": "code",
   "execution_count": 13,
   "id": "246195e8",
   "metadata": {},
   "outputs": [],
   "source": [
    "class Supervisor(Manager):\n",
    "    def __init__(self,ename,eno,erole,edeskID):\n",
    "        self.edeskID=edeskID\n",
    "        Manager.__init__(self,ename,eno,erole)\n",
    "    def display(self):\n",
    "        print(\"Employee desk number is:\",self.edeskID)\n",
    "        Manager.display(self)"
   ]
  },
  {
   "cell_type": "code",
   "execution_count": 14,
   "id": "f4b0640c",
   "metadata": {},
   "outputs": [],
   "source": [
    "s=Supervisor('samir',121,'manager',5)"
   ]
  },
  {
   "cell_type": "code",
   "execution_count": 15,
   "id": "77019cc6",
   "metadata": {},
   "outputs": [
    {
     "name": "stdout",
     "output_type": "stream",
     "text": [
      "Employee desk number is: 5\n",
      "samir\n",
      "121\n",
      "manager\n"
     ]
    }
   ],
   "source": [
    "s.display()"
   ]
  },
  {
   "cell_type": "code",
   "execution_count": 17,
   "id": "e4263437",
   "metadata": {},
   "outputs": [],
   "source": [
    "class Manager:\n",
    "    def __init__(self,erole):\n",
    "        self.erole=erole\n",
    "    def display(self):\n",
    "        print(self.erole)"
   ]
  },
  {
   "cell_type": "code",
   "execution_count": 18,
   "id": "e651275b",
   "metadata": {},
   "outputs": [],
   "source": [
    "class Supervisor(Employee,Manager):\n",
    "    def __init__(self,ename,eno,erole,edeskID):\n",
    "        self.edeskID=edeskID\n",
    "        Employee.__init__(self,ename,eno)\n",
    "        Manager.__init__(self,erole)\n",
    "    def display(self):\n",
    "        Employee.display(self)\n",
    "        print(\"Employee desk number is:\",self.edeskID)\n",
    "        Manager.display(self)"
   ]
  },
  {
   "cell_type": "code",
   "execution_count": 20,
   "id": "b9b898b2",
   "metadata": {},
   "outputs": [],
   "source": [
    "s=Supervisor('Anusha',111,\"manager\",10)"
   ]
  },
  {
   "cell_type": "code",
   "execution_count": 21,
   "id": "163f0a63",
   "metadata": {},
   "outputs": [
    {
     "name": "stdout",
     "output_type": "stream",
     "text": [
      "Anusha\n",
      "111\n",
      "Employee desk number is: 10\n",
      "manager\n"
     ]
    }
   ],
   "source": [
    "s.display()"
   ]
  },
  {
   "cell_type": "code",
   "execution_count": 46,
   "id": "945e05c6",
   "metadata": {},
   "outputs": [],
   "source": [
    "class Employee:\n",
    "    def __init__(self,ename,eno,erole,edesk):\n",
    "        self.ename=ename\n",
    "        self.eno=eno\n",
    "        Manager.__init__(self,erole)\n",
    "        Supervisor.__init__(self,edesk)\n",
    "    def display(self):\n",
    "        print(self.ename)\n",
    "        print(self.eno)\n",
    "        Manager.display(self)\n",
    "        Supervisor.display(self)"
   ]
  },
  {
   "cell_type": "code",
   "execution_count": 47,
   "id": "e7ad11c6",
   "metadata": {},
   "outputs": [],
   "source": [
    "class Manager(Employee):\n",
    "    def __init__(self,erole):\n",
    "        self.erole=erole\n",
    "    def display(self):\n",
    "        print(self.erole)"
   ]
  },
  {
   "cell_type": "code",
   "execution_count": 48,
   "id": "5bc55c99",
   "metadata": {},
   "outputs": [],
   "source": [
    "class Supervisor(Employee):\n",
    "    def __init__(self,edesk):\n",
    "        self.edesk=edesk\n",
    "    def display(self):\n",
    "        print(self.edesk)"
   ]
  },
  {
   "cell_type": "code",
   "execution_count": 49,
   "id": "ecdf836c",
   "metadata": {},
   "outputs": [],
   "source": [
    "s=Employee('anusha',121,\"manager\",10)"
   ]
  },
  {
   "cell_type": "code",
   "execution_count": 50,
   "id": "856bda30",
   "metadata": {},
   "outputs": [
    {
     "name": "stdout",
     "output_type": "stream",
     "text": [
      "anusha\n",
      "121\n",
      "manager\n",
      "10\n"
     ]
    }
   ],
   "source": [
    "s.display()"
   ]
  },
  {
   "cell_type": "code",
   "execution_count": null,
   "id": "4b48a413",
   "metadata": {},
   "outputs": [],
   "source": []
  }
 ],
 "metadata": {
  "kernelspec": {
   "display_name": "Python 3 (ipykernel)",
   "language": "python",
   "name": "python3"
  },
  "language_info": {
   "codemirror_mode": {
    "name": "ipython",
    "version": 3
   },
   "file_extension": ".py",
   "mimetype": "text/x-python",
   "name": "python",
   "nbconvert_exporter": "python",
   "pygments_lexer": "ipython3",
   "version": "3.9.12"
  }
 },
 "nbformat": 4,
 "nbformat_minor": 5
}
